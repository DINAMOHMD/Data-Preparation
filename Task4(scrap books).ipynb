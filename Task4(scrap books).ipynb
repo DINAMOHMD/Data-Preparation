{
 "cells": [
  {
   "cell_type": "code",
   "execution_count": 1,
   "metadata": {},
   "outputs": [],
   "source": [
    "from selenium import webdriver\n",
    "import pandas as pd\n"
   ]
  },
  {
   "cell_type": "code",
   "execution_count": 2,
   "metadata": {},
   "outputs": [],
   "source": [
    "driver=webdriver.Chrome()"
   ]
  },
  {
   "cell_type": "code",
   "execution_count": 3,
   "metadata": {},
   "outputs": [],
   "source": [
    "driver.get(\"https://www.amazon.in/gp/bestsellers/books/\")"
   ]
  },
  {
   "cell_type": "code",
   "execution_count": 32,
   "metadata": {},
   "outputs": [],
   "source": [
    "book_name = driver.find_elements_by_xpath(\"//span[not(@class='a-size-small a-color-base')]\n",
    "                                          //div[@class='_cDEzb_p13n-sc-css-line-clamp-1_1Fn1y']\")\n",
    "books2_name=driver.find_elements_by_xpath(\"//div[@class='_cDEzb_p13n-sc-css-line-clamp-2_EWgCb']\")\n",
    "book_title= book_name + books2_name"
   ]
  },
  {
   "cell_type": "code",
   "execution_count": 33,
   "metadata": {},
   "outputs": [
    {
     "name": "stdout",
     "output_type": "stream",
     "text": [
      "Atomic Habits\n",
      "Don't Believe Everything You Think (English)\n",
      "My First Library: Boxset of 10 Board Books for Kids\n",
      "Ikigai\n",
      "The Psychology Of Money\n",
      "Breaking the Mould : Reimagining India's Economic Future\n",
      "The Power of Your Subconscious Mind\n",
      "Oswaal CBSE Sample Question Papers Class 10 Science Book (For Board Exams 2024) | 2023-24\n",
      "Brain Activity Book for Kids - 200+ Activities for Age 3+\n",
      "My First Book of Patterns Pencil Control: Patterns Practice book for kids (Pattern Writing)\n",
      "Do It Today: Overcome procrastination, improve productivity and achieve more meaningful things [Paperback] Foroux, Darius\n",
      "Grandma's Bag of Stories: Collection of 20+ Illustrated short stories, traditional Indian folk tales for all ages for children of all ages by Sudha Murty [Paperback] Sudha Murty\n",
      "Rich Dad Poor Dad: 25th Anniversary Edit\n",
      "Oswaal CBSE Sample Question Papers Class 10 Mathematics Standard Book (For Board Exams 2024) | 2023-24\n",
      "201 Brain Booster Activity Book - Fun Activities and Exercises For Children: Tracing & Pattern, Colors & Shapes, Maze\n",
      "Same As Ever: Timeless Lessons on Risk, Opportunity and Living a Good Life\n",
      "World’s Greatest Books For Personal Growth & Wealth (Set of 4 Books) : Perfect Motivational Gift Set\n",
      "Colouring Books Boxset: Pack of 12 Copy Colour Books For Children\n",
      "Moral Story Books for Kids (Illustrated) - English Short Stories with Colourful Pictures - Bedtime Children Story Book - 3 Years to 6 Years Old Children - Read Aloud to Infants, Toddlers (Set of 10 Books)\n",
      "Think And Grow Rich [Original Edition (Complete), PREMIUM PAPERBACK]\n",
      "Shrimad Bhagwat Geeta Yatharoop\n",
      "SSC GD (COMBO) MATH +REASONING+GK+HINDI\n",
      "THE SILENT PATIENT [Paperback] Michaelides, Alex\n",
      "PW Physics Med Easy Notes | Notes, Formulas, Mnemonics, Tips & Tricks for NEET/JEE & Board Exams | MR Sir Physics Handwritten Notes\n",
      "BRAHMASTRA Complete Maths Multicolored Formula Book Second Edition BILINGUAL by Aditya Ranjan Sir\n",
      "You Can\n",
      "Tuesdays With Morrie: An old man, a young man, and life's greatest lesson [Paperback] Albom, Mitch\n",
      "THE 48 LAWS OF POWER\n",
      "Diary Of A Wimpy Kid: No Brainer (Book 18)\n",
      "The Power of Your Subconscious Mind\n",
      "How to Win Friends and Influence People\n",
      "My First Mythology Tale (Illustrated) (Set of 5 Books) - Mahabharata, Krishna, Hanuman, Ganesha, Ramayana - Story Book for Kids - English Short Stories with Colourful Pictures - Read Aloud to Infants, Toddlers\n",
      "Meditations\n",
      "THE POWER OF YOUR SUBCONSCIOUS MIND [Original Edition (Complete), PREMIUM PAPERBACK]\n",
      "Spreading Joy: How Joyalukkas Became the World's Favourite Jeweller\n",
      "Trading Chart Pattern Book In Hindi | Includes Candlestick & Breakout Patterns | Indicators & Risk Management |\n",
      "Oxford Student Atlas for India, Fourth Edition - Useful for Competitive Exams\n",
      "Man's Search For Meaning: The classic tribute to hope from the Holocaust\n",
      "Oswaal CBSE Sample Question Papers Class 10 Social Science Book (For Board Exams 2024) | 2023-24\n",
      "Hindus in Hindu Rashtra (Eighth-Class Citizens and Victims of State- Sanctioned Apartheid)\n",
      "Animals Tales From Panchtantra: Timeless Stories for Children From Ancient India\n",
      "Decoding The Leader\n",
      "Little Colouring Books for Kids (Set of 10 Books) - Gift to children for painting, drawing and colouring - Alphabets, Animals, Birds, Flags, Flowers, ... Transport, Vegetables - 3 to 6 years old [Paperback] Maple Press\n",
      "1800+ Reward Stickers - Ideal For Teachers And Parents : Sticker Book With Over 1800 Stickers To Boost The Morale of Kids\n",
      "How to Talk to Anyone: 92 Little Tricks for Big Success in Relationships\n",
      "1001 Ultimate Brain Booster Activities for 3 to 6 Years Old Kids |Enhance the Child Mind with Cognitive Excellence with Interactive Activity Book\n",
      "Shlokas and Mantras - Activity Book For Kids - Illustrated Book With Engaging Activities and Sticker Sheets\n",
      "The 5 AM Club\n",
      "Four Stars of Destiny: An Autobiography\n",
      "Breakout Trading Made Easy: Maximize Your Profits with Simple Price Action Strategies\n"
     ]
    }
   ],
   "source": [
    "for i in book_title:\n",
    "    print(i.text)"
   ]
  },
  {
   "cell_type": "code",
   "execution_count": 26,
   "metadata": {},
   "outputs": [],
   "source": [
    "book_price=driver.find_elements(\"xpath\",\"//span[@class='_cDEzb_p13n-sc-price_3mJ9Z']\")"
   ]
  },
  {
   "cell_type": "code",
   "execution_count": 27,
   "metadata": {},
   "outputs": [
    {
     "name": "stdout",
     "output_type": "stream",
     "text": [
      "₹544.00\n",
      "₹187.00\n",
      "₹399.00\n",
      "₹346.00\n",
      "₹311.00\n",
      "₹617.00\n",
      "₹115.00\n",
      "₹297.00\n",
      "₹99.00\n",
      "₹89.00\n",
      "₹144.00\n",
      "₹175.00\n",
      "₹436.00\n",
      "₹294.00\n",
      "₹99.00\n",
      "₹323.00\n",
      "₹339.00\n",
      "₹584.00\n",
      "₹329.00\n",
      "₹221.00\n",
      "₹99.00\n",
      "₹240.00\n",
      "₹448.00\n",
      "₹218.00\n",
      "₹409.00\n",
      "₹180.00\n",
      "₹299.00\n",
      "₹99.00\n",
      "₹213.00\n",
      "₹603.00\n",
      "₹409.00\n",
      "₹99.00\n",
      "₹99.00\n",
      "₹176.00\n",
      "₹99.00\n",
      "₹115.00\n",
      "₹499.00\n",
      "₹268.00\n",
      "₹240.00\n",
      "₹187.00\n",
      "₹303.00\n",
      "₹179.00\n",
      "₹189.00\n",
      "₹135.00\n",
      "₹192.00\n",
      "₹159.00\n",
      "₹258.00\n",
      "₹297.00\n",
      "₹149.00\n",
      "₹257.00\n"
     ]
    }
   ],
   "source": [
    "for i in book_price:\n",
    "    print(i.text)"
   ]
  },
  {
   "cell_type": "code",
   "execution_count": 34,
   "metadata": {},
   "outputs": [
    {
     "name": "stdout",
     "output_type": "stream",
     "text": [
      "50 50\n"
     ]
    }
   ],
   "source": [
    "print(len(book_title),len(book_price))"
   ]
  },
  {
   "cell_type": "code",
   "execution_count": 35,
   "metadata": {},
   "outputs": [],
   "source": [
    "book_title = [element.text for element in book_title]\n",
    "book_price = [element.text for element in book_price]\n",
    "\n",
    "\n",
    "df = pd.DataFrame({\n",
    "    \"name\": book_title,\n",
    "    \"price\": book_price\n",
    "})\n",
    "\n",
    "df.to_csv('Books.csv', index=False, encoding='utf-8')"
   ]
  }
 ],
 "metadata": {
  "kernelspec": {
   "display_name": "Python 3",
   "language": "python",
   "name": "python3"
  },
  "language_info": {
   "codemirror_mode": {
    "name": "ipython",
    "version": 3
   },
   "file_extension": ".py",
   "mimetype": "text/x-python",
   "name": "python",
   "nbconvert_exporter": "python",
   "pygments_lexer": "ipython3",
   "version": "3.7.6"
  }
 },
 "nbformat": 4,
 "nbformat_minor": 4
}
